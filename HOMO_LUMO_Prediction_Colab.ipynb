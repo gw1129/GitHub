{
  "cells": [
    {
      "cell_type": "markdown",
      "metadata": {
        "id": "view-in-github",
        "colab_type": "text"
      },
      "source": [
        "<a href=\"https://colab.research.google.com/github/gw1129/GitHub/blob/master/HOMO_LUMO_Prediction_Colab.ipynb\" target=\"_parent\"><img src=\"https://colab.research.google.com/assets/colab-badge.svg\" alt=\"Open In Colab\"/></a>"
      ]
    },
    {
      "cell_type": "markdown",
      "metadata": {
        "id": "cyJ8FgwAJZE5"
      },
      "source": [
        "# 🔬 전해질 분자의 HOMO / LUMO 예측 실습\n",
        "\n",
        "이 노트북에서는 간단한 분자 데이터를 기반으로 HOMO / LUMO 에너지를 예측하는 머신러닝 모델을 만들어봅니다.\n",
        "\n",
        "우리는 다음 단계를 따릅니다:\n",
        "1. 데이터 생성\n",
        "2. 분자 특성 벡터화\n",
        "3. 머신러닝 모델 학습 및 평가\n",
        "\n",
        "사용 도구: `RDKit`, `scikit-learn`, `RandomForestRegressor`"
      ],
      "id": "cyJ8FgwAJZE5"
    },
    {
      "cell_type": "code",
      "execution_count": null,
      "metadata": {
        "id": "SpJm-bzKJZE6"
      },
      "outputs": [],
      "source": [
        "# STEP 1. 라이브러리 설치 및 임포트\n",
        "!pip install rdkit-pypi tqdm\n",
        "import pandas as pd\n",
        "import numpy as np\n",
        "from sklearn.ensemble import RandomForestRegressor\n",
        "from sklearn.model_selection import train_test_split\n",
        "from sklearn.metrics import mean_absolute_error, r2_score\n",
        "from rdkit import Chem\n",
        "from rdkit.Chem import Descriptors\n",
        "from tqdm import tqdm"
      ],
      "id": "SpJm-bzKJZE6"
    },
    {
      "cell_type": "code",
      "execution_count": null,
      "metadata": {
        "id": "2SwSlvfpJZE7"
      },
      "outputs": [],
      "source": [
        "# STEP 2. 데이터 생성 (가상 전해질 분자)\n",
        "np.random.seed(42)\n",
        "n_samples = 500\n",
        "\n",
        "def random_smiles():\n",
        "    return 'C' + ''.join(np.random.choice(['C', 'O', 'N', 'F'], size=5))\n",
        "\n",
        "data = {\n",
        "    'smiles': [random_smiles() for _ in range(n_samples)],\n",
        "    'HOMO': np.random.uniform(-11, -5, size=n_samples),\n",
        "    'LUMO': np.random.uniform(-4, 0, size=n_samples)\n",
        "}\n",
        "df = pd.DataFrame(data)\n",
        "df.head()"
      ],
      "id": "2SwSlvfpJZE7"
    },
    {
      "cell_type": "code",
      "execution_count": null,
      "metadata": {
        "id": "bw5zDFadJZE7"
      },
      "outputs": [],
      "source": [
        "# STEP 3. RDKit으로 분자 특성 추출\n",
        "def compute_features(smiles):\n",
        "    mol = Chem.MolFromSmiles(smiles)\n",
        "    if mol is None:\n",
        "        return [np.nan] * 5\n",
        "    mw = Descriptors.MolWt(mol)\n",
        "    logp = Descriptors.MolLogP(mol)\n",
        "    h_donors = Descriptors.NumHDonors(mol)\n",
        "    h_acceptors = Descriptors.NumHAcceptors(mol)\n",
        "    tpsa = Descriptors.TPSA(mol)\n",
        "    return [mw, logp, h_donors, h_acceptors, tpsa]\n",
        "\n",
        "feature_names = ['MolWt', 'LogP', 'HDonors', 'HAcceptors', 'TPSA']\n",
        "features = [compute_features(smi) for smi in tqdm(df['smiles'])]\n",
        "\n",
        "feature_df = pd.DataFrame(features, columns=feature_names)\n",
        "df = pd.concat([df, feature_df], axis=1)\n",
        "df.dropna(inplace=True)\n",
        "df.head()"
      ],
      "id": "bw5zDFadJZE7"
    },
    {
      "cell_type": "code",
      "execution_count": null,
      "metadata": {
        "id": "nAjlvgvuJZE7"
      },
      "outputs": [],
      "source": [
        "# STEP 4. 머신러닝 모델 학습 및 평가\n",
        "X = df[feature_names]\n",
        "y_HOMO = df['HOMO']\n",
        "y_LUMO = df['LUMO']\n",
        "\n",
        "X_train, X_test, y_HOMO_train, y_HOMO_test, y_LUMO_train, y_LUMO_test = train_test_split(\n",
        "    X, y_HOMO, y_LUMO, test_size=0.2, random_state=42\n",
        ")\n",
        "\n",
        "model_HOMO = RandomForestRegressor(random_state=42)\n",
        "model_HOMO.fit(X_train, y_HOMO_train)\n",
        "pred_HOMO = model_HOMO.predict(X_test)\n",
        "\n",
        "model_LUMO = RandomForestRegressor(random_state=42)\n",
        "model_LUMO.fit(X_train, y_LUMO_train)\n",
        "pred_LUMO = model_LUMO.predict(X_test)\n",
        "\n",
        "print(\"HOMO MAE:\", mean_absolute_error(y_HOMO_test, pred_HOMO))\n",
        "print(\"HOMO R²:\", r2_score(y_HOMO_test, pred_HOMO))\n",
        "print(\"LUMO MAE:\", mean_absolute_error(y_LUMO_test, pred_LUMO))\n",
        "print(\"LUMO R²:\", r2_score(y_LUMO_test, pred_LUMO))"
      ],
      "id": "nAjlvgvuJZE7"
    }
  ],
  "metadata": {
    "kernelspec": {
      "display_name": "Python 3",
      "language": "python",
      "name": "python3"
    },
    "language_info": {
      "name": "python",
      "version": "3.10"
    },
    "colab": {
      "provenance": [],
      "include_colab_link": true
    }
  },
  "nbformat": 4,
  "nbformat_minor": 5
}